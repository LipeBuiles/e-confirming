{
  "nbformat": 4,
  "nbformat_minor": 0,
  "metadata": {
    "colab": {
      "name": "E-Confirming.ipynb",
      "provenance": [],
      "collapsed_sections": [],
      "authorship_tag": "ABX9TyNWRQWDSWPjtwZ65IS8PcY5",
      "include_colab_link": true
    },
    "kernelspec": {
      "name": "python3",
      "display_name": "Python 3"
    },
    "language_info": {
      "name": "python"
    }
  },
  "cells": [
    {
      "cell_type": "markdown",
      "metadata": {
        "id": "view-in-github",
        "colab_type": "text"
      },
      "source": [
        "<a href=\"https://colab.research.google.com/github/elpinchepastel/e-confirming/blob/main/E_Confirming.ipynb\" target=\"_parent\"><img src=\"https://colab.research.google.com/assets/colab-badge.svg\" alt=\"Open In Colab\"/></a>"
      ]
    },
    {
      "cell_type": "code",
      "execution_count": null,
      "metadata": {
        "id": "b-t60OJlCac3"
      },
      "outputs": [],
      "source": [
        "#sln\n",
        "import pandas as pd\n",
        "from google.colab import files"
      ]
    },
    {
      "cell_type": "code",
      "source": [
        "file_up = files.upload()"
      ],
      "metadata": {
        "id": "BQGBoSiWGazv"
      },
      "execution_count": null,
      "outputs": []
    },
    {
      "cell_type": "code",
      "source": [
        "key, value = list(file_up.items())[0]"
      ],
      "metadata": {
        "id": "nLEf0hn1GpY0"
      },
      "execution_count": null,
      "outputs": []
    },
    {
      "cell_type": "code",
      "source": [
        "name_file = str(key)\n",
        "name_file = name_file.replace(\"'\",\"\")"
      ],
      "metadata": {
        "id": "xBuZkqelHCt5"
      },
      "execution_count": null,
      "outputs": []
    },
    {
      "cell_type": "code",
      "source": [
        "df = pd.read_excel(name_file, parse_dates=['Fec_factura','Fec_vencimiento', 'Fec_pago'])\n",
        "df"
      ],
      "metadata": {
        "id": "apnZWN5aCnGK"
      },
      "execution_count": null,
      "outputs": []
    },
    {
      "cell_type": "code",
      "source": [
        "df['Fec_factura'] = df['Fec_factura'].dt.strftime('%Y.%m.%d')\n",
        "df['Fec_vencimiento'] = df['Fec_vencimiento'].dt.strftime('%Y.%m.%d')\n",
        "df['Fec_pago'] = df['Fec_pago'].dt.strftime('%Y.%m.%d')\n",
        "df"
      ],
      "metadata": {
        "id": "TrCBQEiUG8gg"
      },
      "execution_count": null,
      "outputs": []
    },
    {
      "cell_type": "code",
      "source": [
        "df.to_csv('download_file_name.csv', index=False,sep=';')"
      ],
      "metadata": {
        "id": "UuLp8skGHFJU"
      },
      "execution_count": null,
      "outputs": []
    },
    {
      "cell_type": "code",
      "source": [
        "files.download(\"download_file_name.csv\")"
      ],
      "metadata": {
        "id": "z9dzUB57KQ92"
      },
      "execution_count": null,
      "outputs": []
    }
  ]
}